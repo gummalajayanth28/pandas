{
  "cells": [
    {
      "cell_type": "markdown",
      "metadata": {
        "id": "B5H9f26A6d-P"
      },
      "source": [
        "# Pandas for Data Manipulation and Analysis\n",
        "\n",
        "This notebook provides a comprehensive introduction to using Pandas, a powerful library for data manipulation and analysis in Python. We will cover various operations, including data inspection, selection, cleaning, aggregation, merging, visualization, and exporting."
      ]
    },
    {
      "cell_type": "markdown",
      "metadata": {
        "id": "puzwnXXO6d-T"
      },
      "source": [
        "## 1. Importing Pandas\n",
        "\n",
        "First, let's import Pandas to start working with it."
      ]
    },
    {
      "cell_type": "code",
      "execution_count": null,
      "metadata": {
        "id": "lW21GOpW6d-T"
      },
      "outputs": [],
      "source": [
        "import pandas as pd"
      ]
    },
    {
      "cell_type": "markdown",
      "metadata": {
        "id": "zelYTgnf6d-U"
      },
      "source": [
        "## 2. Creating DataFrames\n",
        "\n",
        "DataFrames are the main data structures in Pandas. Let's create a DataFrame from a dictionary."
      ]
    },
    {
      "cell_type": "code",
      "execution_count": null,
      "metadata": {
        "id": "cMeM2LJo6d-U"
      },
      "outputs": [],
      "source": [
        "# Creating a DataFrame\n",
        "data = {\n",
        "    'Name': ['Alice', 'Bob', 'Charlie', 'David', 'Eva'],\n",
        "    'Age': [25, 30, 35, 40, 45],\n",
        "    'City': ['New York', 'Los Angeles', 'Chicago', 'Houston', 'Phoenix']\n",
        "}\n",
        "df = pd.DataFrame(data)\n",
        "df"
      ]
    },
    {
      "cell_type": "markdown",
      "metadata": {
        "id": "kK1lpRsT6d-U"
      },
      "source": [
        "## 3. Inspecting DataFrames\n",
        "\n",
        "You can inspect DataFrames using various methods to understand the data better."
      ]
    },
    {
      "cell_type": "code",
      "execution_count": null,
      "metadata": {
        "id": "6KUXlRR36d-V"
      },
      "outputs": [],
      "source": [
        "# Display the first few rows of the DataFrame\n",
        "df.head()\n",
        "\n",
        "# Display the summary of the DataFrame\n",
        "df.info()\n",
        "\n",
        "# Display the summary statistics\n",
        "df.describe()"
      ]
    },
    {
      "cell_type": "markdown",
      "metadata": {
        "id": "Ghj9aQWZ6d-V"
      },
      "source": [
        "## 4. Data Selection and Filtering\n",
        "\n",
        "Let's learn how to select specific rows and columns from a DataFrame."
      ]
    },
    {
      "cell_type": "code",
      "execution_count": null,
      "metadata": {
        "id": "2mc2q-UP6d-V"
      },
      "outputs": [],
      "source": [
        "# Selecting a single column\n",
        "df['Name']\n",
        "\n",
        "# Selecting multiple columns\n",
        "df[['Name', 'City']]\n",
        "\n",
        "# Filtering rows based on a condition\n",
        "df[df['Age'] > 30]"
      ]
    },
    {
      "cell_type": "markdown",
      "metadata": {
        "id": "xXLt0r6B6d-V"
      },
      "source": [
        "## 5. Data Cleaning\n",
        "\n",
        "Data cleaning involves handling missing values, removing duplicates, and correcting data types."
      ]
    },
    {
      "cell_type": "markdown",
      "metadata": {
        "id": "Vj5hMxGT6d-W"
      },
      "source": [
        "### 5.1. Handling Missing Values\n",
        "You can handle missing values by either dropping them or filling them with a specific value."
      ]
    },
    {
      "cell_type": "code",
      "execution_count": null,
      "metadata": {
        "id": "eTStQaCB6d-W"
      },
      "outputs": [],
      "source": [
        "# Creating a DataFrame with missing values\n",
        "df_with_nan = pd.DataFrame({\n",
        "    'Name': ['Alice', 'Bob', None, 'David'],\n",
        "    'Age': [25, None, 35, 40],\n",
        "    'City': ['New York', 'Los Angeles', 'Chicago', None]\n",
        "})\n",
        "print(\"DataFrame with NaN values:\")\n",
        "print(df_with_nan)\n",
        "\n",
        "# Detecting missing values\n",
        "print(\"\\nMissing values in DataFrame:\")\n",
        "print(df_with_nan.isna())\n",
        "\n",
        "# Dropping rows with missing values\n",
        "df_dropped = df_with_nan.dropna()\n",
        "print(\"\\nDataFrame after dropping missing values:\")\n",
        "print(df_dropped)\n",
        "\n",
        "# Filling missing values\n",
        "df_filled = df_with_nan.fillna({'Age': df_with_nan['Age'].mean(), 'City': 'Unknown'})\n",
        "print(\"\\nDataFrame after filling missing values:\")\n",
        "print(df_filled)"
      ]
    },
    {
      "cell_type": "markdown",
      "metadata": {
        "id": "vBRKz5o16d-W"
      },
      "source": [
        "### 5.2. Removing Duplicates\n",
        "You can remove duplicate rows using the `drop_duplicates()` method."
      ]
    },
    {
      "cell_type": "code",
      "execution_count": null,
      "metadata": {
        "id": "GEUUyaD56d-W"
      },
      "outputs": [],
      "source": [
        "# Creating a DataFrame with duplicate rows\n",
        "df_with_duplicates = pd.DataFrame({\n",
        "    'Name': ['Alice', 'Bob', 'Alice', 'Charlie'],\n",
        "    'Age': [25, 30, 25, 35],\n",
        "    'City': ['New York', 'Los Angeles', 'New York', 'Chicago']\n",
        "})\n",
        "print(\"DataFrame with duplicates:\")\n",
        "print(df_with_duplicates)\n",
        "\n",
        "# Removing duplicate rows\n",
        "df_no_duplicates = df_with_duplicates.drop_duplicates()\n",
        "print(\"\\nDataFrame after removing duplicates:\")\n",
        "print(df_no_duplicates)"
      ]
    },
    {
      "cell_type": "markdown",
      "metadata": {
        "id": "HipAd-I06d-X"
      },
      "source": [
        "## 6. Data Aggregation\n",
        "\n",
        "Data aggregation involves summarizing and grouping data based on specific criteria. Pandas provides powerful methods for aggregation and grouping."
      ]
    },
    {
      "cell_type": "markdown",
      "metadata": {
        "id": "U7qFg8LF6d-X"
      },
      "source": [
        "### 6.1. Grouping Data\n",
        "You can group data using the `groupby()` method and then perform aggregate functions like sum, mean, and count."
      ]
    },
    {
      "cell_type": "code",
      "execution_count": null,
      "metadata": {
        "id": "LveE1w0A6d-X"
      },
      "outputs": [],
      "source": [
        "# Creating a DataFrame for grouping\n",
        "df_grouping = pd.DataFrame({\n",
        "    'Name': ['Alice', 'Bob', 'Alice', 'Charlie', 'Bob'],\n",
        "    'Age': [25, 30, 25, 35, 30],\n",
        "    'City': ['New York', 'Los Angeles', 'New York', 'Chicago', 'Los Angeles']\n",
        "})\n",
        "print(\"DataFrame for grouping:\")\n",
        "print(df_grouping)\n",
        "\n",
        "# Grouping by 'Name' and calculating mean age\n",
        "grouped = df_grouping.groupby('Name').mean()\n",
        "print(\"\\nGrouped Data (mean age by Name):\")\n",
        "print(grouped)"
      ]
    },
    {
      "cell_type": "markdown",
      "metadata": {
        "id": "4cednSTK6d-X"
      },
      "source": [
        "### 6.2. Aggregation Functions\n",
        "You can apply aggregation functions like `sum()`, `mean()`, `count()`, and `agg()` to grouped data."
      ]
    },
    {
      "cell_type": "code",
      "execution_count": null,
      "metadata": {
        "id": "fS2QZvLY6d-X"
      },
      "outputs": [],
      "source": [
        "# Aggregating data with multiple functions\n",
        "aggregation = df_grouping.groupby('City').agg({\n",
        "    'Age': ['mean', 'sum', 'count']\n",
        "})\n",
        "print(\"\\nAggregated Data (mean, sum, count of Age by City):\")\n",
        "print(aggregation)"
      ]
    },
    {
      "cell_type": "markdown",
      "metadata": {
        "id": "WMQiCTYq6d-Y"
      },
      "source": [
        "## 7. Merging and Joining DataFrames\n",
        "\n",
        "Merging and joining DataFrames are essential operations for combining datasets based on common columns or indices."
      ]
    },
    {
      "cell_type": "markdown",
      "metadata": {
        "id": "w6ouGeMp6d-Y"
      },
      "source": [
        "### 7.1. Merging DataFrames\n",
        "You can merge DataFrames using the `merge()` method, similar to SQL joins."
      ]
    },
    {
      "cell_type": "code",
      "execution_count": null,
      "metadata": {
        "id": "A8g5FD_i6d-Y"
      },
      "outputs": [],
      "source": [
        "# Creating DataFrames for merging\n",
        "df1 = pd.DataFrame({\n",
        "    'Key': ['A', 'B', 'C', 'D'],\n",
        "    'Value1': [1, 2, 3, 4]\n",
        "})\n",
        "df2 = pd.DataFrame({\n",
        "    'Key': ['A', 'B', 'E'],\n",
        "    'Value2': [5, 6, 7]\n",
        "})\n",
        "\n",
        "# Merging DataFrames on 'Key'\n",
        "merged = pd.merge(df1, df2, on='Key', how='inner')\n",
        "print(\"Merged DataFrame (inner join on 'Key'):\")\n",
        "print(merged)"
      ]
    },
    {
      "cell_type": "markdown",
      "metadata": {
        "id": "E51lUBhO6d-Y"
      },
      "source": [
        "### 7.2. Joining DataFrames\n",
        "Joining is a convenient method for combining DataFrames on their index."
      ]
    },
    {
      "cell_type": "code",
      "execution_count": null,
      "metadata": {
        "id": "7a4fZyKh6d-Z"
      },
      "outputs": [],
      "source": [
        "# Creating DataFrames for joining\n",
        "df1 = pd.DataFrame({\n",
        "    'Value1': [1, 2, 3]\n",
        "}, index=['A', 'B', 'C'])\n",
        "df2 = pd.DataFrame({\n",
        "    'Value2': [4, 5, 6]\n",
        "}, index=['A', 'B', 'D'])\n",
        "\n",
        "# Joining DataFrames on index\n",
        "joined = df1.join(df2, how='outer')\n",
        "print(\"Joined DataFrame (outer join on index):\")\n",
        "print(joined)"
      ]
    },
    {
      "cell_type": "markdown",
      "metadata": {
        "id": "gYC0HpwY6d-Z"
      },
      "source": [
        "## 8. Data Visualization\n",
        "\n",
        "Pandas integrates with Matplotlib to provide convenient plotting capabilities directly from DataFrames."
      ]
    },
    {
      "cell_type": "code",
      "execution_count": null,
      "metadata": {
        "id": "iJh6qAkm6d-Z"
      },
      "outputs": [],
      "source": [
        "# Importing Matplotlib for plotting\n",
        "import matplotlib.pyplot as plt\n",
        "\n",
        "# Creating a simple line plot\n",
        "df_line = pd.DataFrame({\n",
        "    'Year': [2010, 2011, 2012, 2013, 2014],\n",
        "    'Value': [100, 200, 150, 300, 250]\n",
        "})\n",
        "df_line.plot(x='Year', y='Value', kind='line')\n",
        "plt.title('Year vs Value')\n",
        "plt.xlabel('Year')\n",
        "plt.ylabel('Value')\n",
        "plt.show()"
      ]
    },
    {
      "cell_type": "markdown",
      "metadata": {
        "id": "jpt7OIYJ6d-Z"
      },
      "source": [
        "### 8.1. Bar Plot\n",
        "You can create a bar plot using the `plot()` method with the `kind='bar'` argument."
      ]
    },
    {
      "cell_type": "code",
      "execution_count": null,
      "metadata": {
        "id": "7BNH-CEr6d-Z"
      },
      "outputs": [],
      "source": [
        "# Creating a bar plot\n",
        "df_bar = pd.DataFrame({\n",
        "    'Category': ['A', 'B', 'C', 'D'],\n",
        "    'Values': [23, 45, 56, 78]\n",
        "})\n",
        "df_bar.plot(x='Category', y='Values', kind='bar', color='skyblue')\n",
        "plt.title('Category vs Values')\n",
        "plt.xlabel('Category')\n",
        "plt.ylabel('Values')\n",
        "plt.show()"
      ]
    },
    {
      "cell_type": "markdown",
      "metadata": {
        "id": "rrAaln3o6d-a"
      },
      "source": [
        "### 8.2. Histogram\n",
        "Histograms are useful for showing the distribution of a numerical dataset. You can create a histogram using the `plot()` method with the `kind='hist'` argument."
      ]
    },
    {
      "cell_type": "code",
      "execution_count": null,
      "metadata": {
        "id": "nIL9ILYh6d-a"
      },
      "outputs": [],
      "source": [
        "# Creating a histogram\n",
        "df_hist = pd.DataFrame({\n",
        "    'Age': [22, 25, 29, 30, 35, 40, 42, 45, 50, 55, 60]\n",
        "})\n",
        "df_hist.plot(kind='hist', bins=5, color='lightgreen')\n",
        "plt.title('Age Distribution')\n",
        "plt.xlabel('Age')\n",
        "plt.ylabel('Frequency')\n",
        "plt.show()"
      ]
    },
    {
      "cell_type": "markdown",
      "metadata": {
        "id": "r6KBdb7A6d-a"
      },
      "source": [
        "### 8.3. Scatter Plot\n",
        "Scatter plots are useful for visualizing the relationship between two numerical variables. You can create a scatter plot using the `plot()` method with the `kind='scatter'` argument."
      ]
    },
    {
      "cell_type": "code",
      "execution_count": null,
      "metadata": {
        "id": "M_ISNSPe6d-a"
      },
      "outputs": [],
      "source": [
        "# Creating a scatter plot\n",
        "df_scatter = pd.DataFrame({\n",
        "    'Height': [150, 160, 165, 170, 175, 180, 185],\n",
        "    'Weight': [50, 55, 60, 65, 70, 75, 80]\n",
        "})\n",
        "df_scatter.plot(x='Height', y='Weight', kind='scatter', color='red')\n",
        "plt.title('Height vs Weight')\n",
        "plt.xlabel('Height (cm)')\n",
        "plt.ylabel('Weight (kg)')\n",
        "plt.show()"
      ]
    },
    {
      "cell_type": "markdown",
      "metadata": {
        "id": "7puEUrNq6d-a"
      },
      "source": [
        "## 9. Exporting Data\n",
        "\n",
        "Pandas provides functionality to export data from DataFrames to various formats, such as CSV, Excel, and JSON. This is useful for saving your cleaned and processed data for later use or for sharing with others."
      ]
    },
    {
      "cell_type": "markdown",
      "metadata": {
        "id": "Oa8sc6Y_6d-a"
      },
      "source": [
        "### 9.1. Exporting to CSV\n",
        "You can export a DataFrame to a CSV file using the `to_csv()` method."
      ]
    },
    {
      "cell_type": "code",
      "execution_count": null,
      "metadata": {
        "id": "hMT-1KQ-6d-b"
      },
      "outputs": [],
      "source": [
        "# Exporting DataFrame to CSV\n",
        "df.to_csv('exported_data.csv', index=False)\n",
        "print(\"DataFrame exported to 'exported_data.csv'\")"
      ]
    },
    {
      "cell_type": "markdown",
      "metadata": {
        "id": "zpR8XnuS6d-b"
      },
      "source": [
        "### 9.2. Exporting to Excel\n",
        "You can export a DataFrame to an Excel file using the `to_excel()` method."
      ]
    },
    {
      "cell_type": "code",
      "execution_count": null,
      "metadata": {
        "id": "5wfImmzG6d-b"
      },
      "outputs": [],
      "source": [
        "# Exporting DataFrame to Excel\n",
        "df.to_excel('exported_data.xlsx', index=False)\n",
        "print(\"DataFrame exported to 'exported_data.xlsx'\")"
      ]
    },
    {
      "cell_type": "markdown",
      "metadata": {
        "id": "lFnY6Um66d-b"
      },
      "source": [
        "### 9.3. Exporting to JSON\n",
        "You can export a DataFrame to a JSON file using the `to_json()` method."
      ]
    },
    {
      "cell_type": "code",
      "execution_count": null,
      "metadata": {
        "id": "0HeAnDks6d-b"
      },
      "outputs": [],
      "source": [
        "# Exporting DataFrame to JSON\n",
        "df.to_json('exported_data.json', orient='records')\n",
        "print(\"DataFrame exported to 'exported_data.json'\")"
      ]
    },
    {
      "cell_type": "markdown",
      "metadata": {
        "id": "_cKJb0uY6d-c"
      },
      "source": [
        "## Conclusion\n",
        "\n",
        "This notebook has covered the basics of Pandas for data manipulation and analysis, including data inspection, selection, cleaning, aggregation, merging, visualization, and exporting. These skills are essential for data science and can be expanded upon with more complex datasets and operations."
      ]
    }
  ],
  "metadata": {
    "kernelspec": {
      "display_name": "Python 3",
      "language": "python",
      "name": "python3"
    },
    "language_info": {
      "codemirror_mode": {
        "name": "ipython",
        "version": 3
      },
      "file_extension": ".py",
      "mimetype": "text/x-python",
      "name": "python",
      "nbconvert_exporter": "python",
      "pygments_lexer": "ipython3",
      "version": "3.8.5"
    },
    "colab": {
      "provenance": []
    }
  },
  "nbformat": 4,
  "nbformat_minor": 0
}