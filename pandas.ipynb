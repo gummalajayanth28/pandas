{
  "nbformat": 4,
  "nbformat_minor": 0,
  "metadata": {
    "colab": {
      "provenance": []
    },
    "kernelspec": {
      "name": "python3",
      "display_name": "Python 3"
    },
    "language_info": {
      "name": "python"
    }
  },
  "cells": [
    {
      "cell_type": "code",
      "source": [
        "import pandas as pd\n",
        "import numpy as np\n",
        "\n",
        "# 1. Create and Save Sample Data\n",
        "# Create a DataFrame with the specified names\n",
        "data = {\n",
        "    'Name': ['Jayanth', 'Lokesh', 'Sasank', 'Teja', np.nan],\n",
        "    'Age': [28, np.nan, 34, 29, 40],\n",
        "    'Salary': [70000, 80000, np.nan, 60000, 90000],\n",
        "    'Gender': ['M', 'M', 'M', 'F', np.nan]\n",
        "}\n",
        "df = pd.DataFrame(data)\n",
        "\n",
        "# Save the DataFrame to a CSV file\n",
        "df.to_csv('sample_data.csv', index=False)\n",
        "\n",
        "# 2. Read the Data from the CSV File\n",
        "df = pd.read_csv('sample_data.csv')\n",
        "\n",
        "print(\"Original DataFrame:\\n\", df)\n",
        "\n",
        "# 3. Handling Missing Data\n",
        "\n",
        "# a. Fill missing values with specified values or methods\n",
        "df['Age'].fillna(df['Age'].mean(), inplace=True)  # Fill missing Age with the mean age\n",
        "df['Salary'].fillna(df['Salary'].median(), inplace=True)  # Fill missing Salary with the median salary\n",
        "\n",
        "# b. Drop rows with missing values in 'Name' or 'Gender'\n",
        "df.dropna(subset=['Name', 'Gender'], inplace=True)\n",
        "\n",
        "print(\"\\nDataFrame after handling missing values:\\n\", df)\n",
        "\n",
        "# 4. Data Transformation\n",
        "\n",
        "# a. Add a new column 'Annual Income' by transforming 'Salary' column\n",
        "df['Annual Income'] = df['Salary'] * 12\n",
        "\n",
        "# b. Create a 'Senior Citizen' column based on Age\n",
        "df['Senior Citizen'] = df['Age'].apply(lambda x: 'Yes' if x >= 60 else 'No')\n",
        "\n",
        "print(\"\\nDataFrame after data transformations:\\n\", df)\n",
        "\n",
        "# Save the transformed DataFrame to a new CSV file\n",
        "df.to_csv('transformed_data.csv', index=False)"
      ],
      "metadata": {
        "colab": {
          "base_uri": "https://localhost:8080/",
          "height": 0
        },
        "id": "11P_UfUlsomq",
        "outputId": "b84a3a97-c634-453f-bf99-214251d4777c"
      },
      "execution_count": 2,
      "outputs": [
        {
          "output_type": "stream",
          "name": "stdout",
          "text": [
            "Original DataFrame:\n",
            "       Name   Age   Salary Gender\n",
            "0  Jayanth  28.0  70000.0      M\n",
            "1   Lokesh   NaN  80000.0      M\n",
            "2   Sasank  34.0      NaN      M\n",
            "3     Teja  29.0  60000.0      F\n",
            "4      NaN  40.0  90000.0    NaN\n",
            "\n",
            "DataFrame after handling missing values:\n",
            "       Name    Age   Salary Gender\n",
            "0  Jayanth  28.00  70000.0      M\n",
            "1   Lokesh  32.75  80000.0      M\n",
            "2   Sasank  34.00  75000.0      M\n",
            "3     Teja  29.00  60000.0      F\n",
            "\n",
            "DataFrame after data transformations:\n",
            "       Name    Age   Salary Gender  Annual Income Senior Citizen\n",
            "0  Jayanth  28.00  70000.0      M       840000.0             No\n",
            "1   Lokesh  32.75  80000.0      M       960000.0             No\n",
            "2   Sasank  34.00  75000.0      M       900000.0             No\n",
            "3     Teja  29.00  60000.0      F       720000.0             No\n"
          ]
        }
      ]
    },
    {
      "cell_type": "code",
      "source": [
        "import pandas as pd\n",
        "import numpy as np\n",
        "\n",
        "# Create a sample DataFrame for demonstration\n",
        "data = {\n",
        "    'Name': ['Jayanth', 'Lokesh', 'Sasank', 'Teja', 'Jayanth', 'Lokesh', 'Teja'],\n",
        "    'Category': ['A', 'B', 'A', 'B', 'C', 'C', 'A'],\n",
        "    'Value': [10, 20, 30, 40, 50, 60, 70],\n",
        "    'Quantity': [5, 3, 6, 2, 8, 7, 4]\n",
        "}\n",
        "df = pd.DataFrame(data)\n",
        "\n",
        "print(\"Original DataFrame:\\n\", df)\n",
        "\n",
        "# 1. Generating Summary Statistics\n",
        "summary_statistics = df.describe(include='all')  # include='all' to include categorical columns\n",
        "print(\"\\nSummary Statistics:\\n\", summary_statistics)"
      ],
      "metadata": {
        "colab": {
          "base_uri": "https://localhost:8080/",
          "height": 0
        },
        "id": "IfjMj1fMs2Yk",
        "outputId": "376bb6f2-dd2d-4e63-abff-7ab406d73e57"
      },
      "execution_count": 3,
      "outputs": [
        {
          "output_type": "stream",
          "name": "stdout",
          "text": [
            "Original DataFrame:\n",
            "       Name Category  Value  Quantity\n",
            "0  Jayanth        A     10         5\n",
            "1   Lokesh        B     20         3\n",
            "2   Sasank        A     30         6\n",
            "3     Teja        B     40         2\n",
            "4  Jayanth        C     50         8\n",
            "5   Lokesh        C     60         7\n",
            "6     Teja        A     70         4\n",
            "\n",
            "Summary Statistics:\n",
            "            Name Category      Value  Quantity\n",
            "count         7        7   7.000000  7.000000\n",
            "unique        4        3        NaN       NaN\n",
            "top     Jayanth        A        NaN       NaN\n",
            "freq          2        3        NaN       NaN\n",
            "mean        NaN      NaN  40.000000  5.000000\n",
            "std         NaN      NaN  21.602469  2.160247\n",
            "min         NaN      NaN  10.000000  2.000000\n",
            "25%         NaN      NaN  25.000000  3.500000\n",
            "50%         NaN      NaN  40.000000  5.000000\n",
            "75%         NaN      NaN  55.000000  6.500000\n",
            "max         NaN      NaN  70.000000  8.000000\n"
          ]
        }
      ]
    }
  ]
}